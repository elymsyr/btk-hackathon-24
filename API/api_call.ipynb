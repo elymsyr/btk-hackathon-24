{
 "cells": [
  {
   "cell_type": "code",
   "execution_count": null,
   "metadata": {},
   "outputs": [],
   "source": [
    "!uvicorn app:app --reload"
   ]
  },
  {
   "cell_type": "code",
   "execution_count": 22,
   "metadata": {},
   "outputs": [
    {
     "name": "stdout",
     "output_type": "stream",
     "text": [
      "API Response:\n",
      "{\n",
      "    \"candidates\": [\n",
      "        {\n",
      "            \"content\": {\n",
      "                \"parts\": [\n",
      "                    {\n",
      "                        \"text\": [\n",
      "                            {\n",
      "                                \"result_text\": \"This document provides a detailed overview of the solar system, focusing on each planet's properties, including their distance from the sun, orbital periods, size, mass, density, and notable features like moons, rings, and volcanic activity. It also touches upon asteroids, comets, and dwarf planets within the Kuiper Belt. The document extensively covers space exploration missions like Voyager, Galileo, Cassini, and others, highlighting their findings about the planets and their moons.\",\n",
      "                                \"result_text_title\": \"Summary of the Solar System Document\"\n",
      "                            }\n",
      "                        ]\n",
      "                    }\n",
      "                ],\n",
      "                \"role\": \"model\"\n",
      "            },\n",
      "            \"finish_reason\": 1,\n",
      "            \"index\": 0,\n",
      "            \"safety_ratings\": [\n",
      "                {\n",
      "                    \"category\": 9,\n",
      "                    \"probability\": 1,\n",
      "                    \"blocked\": false\n",
      "                },\n",
      "                {\n",
      "                    \"category\": 8,\n",
      "                    \"probability\": 1,\n",
      "                    \"blocked\": false\n",
      "                },\n",
      "                {\n",
      "                    \"category\": 7,\n",
      "                    \"probability\": 1,\n",
      "                    \"blocked\": false\n",
      "                },\n",
      "                {\n",
      "                    \"category\": 10,\n",
      "                    \"probability\": 1,\n",
      "                    \"blocked\": false\n",
      "                }\n",
      "            ],\n",
      "            \"token_count\": 0,\n",
      "            \"grounding_attributions\": [],\n",
      "            \"avg_logprobs\": 0.0\n",
      "        }\n",
      "    ],\n",
      "    \"usage_metadata\": {\n",
      "        \"prompt_token_count\": 8799,\n",
      "        \"candidates_token_count\": 121,\n",
      "        \"total_token_count\": 8920,\n",
      "        \"cached_content_token_count\": 0\n",
      "    }\n",
      "}\n"
     ]
    }
   ],
   "source": [
    "import requests, json\n",
    "\n",
    "endpoints_name = \"pdf\"\n",
    "\n",
    "with open(\"gezegenler.pdf\", \"rb\") as file:\n",
    "    files = {'file': file}\n",
    "    endpoints = {\n",
    "        \"text\": {\n",
    "            \"text\": \"Here's a FastAPI template with functions that perform the summarization tasks you requested, as well as a tag propriety check. Each function has a pass statement and a corresponding docstring explaining the functionality. You can expand these by adding the actual logic for AI integration.\",\n",
    "            \"option\": \"user_query\",\n",
    "            \"user_query\": \"Say more about this.\",\n",
    "            \"detailed\": \"true\"\n",
    "        },\n",
    "        \"youtube\": {\n",
    "            \"link\": \"Y7W41VMxyQE\",\n",
    "            \"language\": \"en\",\n",
    "            \"option\": \"user_query\",\n",
    "            \"user_query\": \"Say more about this.\",\n",
    "            \"detailed\": \"true\"\n",
    "        },\n",
    "        \"pdf\":{\n",
    "            \"language\": \"tr\",\n",
    "            \"option\": \"summarize\",\n",
    "            \"detailed\": \"false\"            \n",
    "        }\n",
    "    }\n",
    "\n",
    "    api_url = f\"http://127.0.0.1:8000//{endpoints_name}/\"\n",
    "\n",
    "    response = requests.get(api_url, params=endpoints[endpoints_name], files=files)\n",
    "\n",
    "    if response.status_code == 200:\n",
    "        print(\"API Response:\")\n",
    "        print(json.dumps(response.json(), indent=4))\n",
    "    else:\n",
    "        print(f\"Failed to call API. Status Code: {response.status_code}\")\n",
    "        print(\"Response:\", response.text)\n"
   ]
  }
 ],
 "metadata": {
  "kernelspec": {
   "display_name": "btk",
   "language": "python",
   "name": "python3"
  },
  "language_info": {
   "codemirror_mode": {
    "name": "ipython",
    "version": 3
   },
   "file_extension": ".py",
   "mimetype": "text/x-python",
   "name": "python",
   "nbconvert_exporter": "python",
   "pygments_lexer": "ipython3",
   "version": "3.9.20"
  }
 },
 "nbformat": 4,
 "nbformat_minor": 2
}
