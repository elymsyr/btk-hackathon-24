{
 "cells": [
  {
   "cell_type": "code",
   "execution_count": 2,
   "metadata": {},
   "outputs": [
    {
     "name": "stdout",
     "output_type": "stream",
     "text": [
      "\u001b[32mINFO\u001b[0m:     Will watch for changes in these directories: ['/home/things/Documents/GitHub/btk-hackathon-24/API']\n",
      "\u001b[32mINFO\u001b[0m:     Uvicorn running on \u001b[1mhttp://127.0.0.1:8000\u001b[0m (Press CTRL+C to quit)\n",
      "\u001b[32mINFO\u001b[0m:     Started reloader process [\u001b[36m\u001b[1m46291\u001b[0m] using \u001b[36m\u001b[1mStatReload\u001b[0m\n",
      "\u001b[32mINFO\u001b[0m:     Started server process [\u001b[36m46294\u001b[0m]\n",
      "\u001b[32mINFO\u001b[0m:     Waiting for application startup.\n",
      "\u001b[32mINFO\u001b[0m:     Application startup complete.\n",
      "^C\n",
      "\u001b[32mINFO\u001b[0m:     Shutting down\n",
      "\u001b[32mINFO\u001b[0m:     Waiting for application shutdown.\n",
      "\u001b[32mINFO\u001b[0m:     Application shutdown complete.\n",
      "\u001b[32mINFO\u001b[0m:     Finished server process [\u001b[36m46294\u001b[0m]\n"
     ]
    }
   ],
   "source": [
    "!uvicorn app:app --reload"
   ]
  },
  {
   "cell_type": "code",
   "execution_count": 16,
   "metadata": {},
   "outputs": [
    {
     "name": "stdout",
     "output_type": "stream",
     "text": [
      "API Response:\n",
      "{\n",
      "    \"candidates\": [\n",
      "        {\n",
      "            \"content\": {\n",
      "                \"parts\": [\n",
      "                    {\n",
      "                        \"text\": [\n",
      "                            {\n",
      "                                \"result_text\": \"This video demonstrates how to manage caption settings on a computer's video player. This includes turning captions on or off, changing the caption language, customizing the caption appearance (font size, color, etc.), and setting captions to always be displayed. It also mentions the option to enable automatic captions using speech recognition.\",\n",
      "                                \"result_text_title\": \"Caption Management\"\n",
      "                            }\n",
      "                        ]\n",
      "                    }\n",
      "                ],\n",
      "                \"role\": \"model\"\n",
      "            },\n",
      "            \"finish_reason\": 1,\n",
      "            \"index\": 0,\n",
      "            \"safety_ratings\": [\n",
      "                {\n",
      "                    \"category\": 9,\n",
      "                    \"probability\": 1,\n",
      "                    \"blocked\": false\n",
      "                },\n",
      "                {\n",
      "                    \"category\": 8,\n",
      "                    \"probability\": 1,\n",
      "                    \"blocked\": false\n",
      "                },\n",
      "                {\n",
      "                    \"category\": 7,\n",
      "                    \"probability\": 1,\n",
      "                    \"blocked\": false\n",
      "                },\n",
      "                {\n",
      "                    \"category\": 10,\n",
      "                    \"probability\": 1,\n",
      "                    \"blocked\": false\n",
      "                }\n",
      "            ],\n",
      "            \"token_count\": 0,\n",
      "            \"grounding_attributions\": [],\n",
      "            \"avg_logprobs\": 0.0\n",
      "        }\n",
      "    ],\n",
      "    \"usage_metadata\": {\n",
      "        \"prompt_token_count\": 214,\n",
      "        \"candidates_token_count\": 81,\n",
      "        \"total_token_count\": 295,\n",
      "        \"cached_content_token_count\": 0\n",
      "    }\n",
      "}\n"
     ]
    }
   ],
   "source": [
    "import requests, json\n",
    "\n",
    "endpoints_name = \"youtube\"\n",
    "\n",
    "endpoints = {\n",
    "    \"text\": {\n",
    "        \"text\": \"Here's a FastAPI template with functions that perform the summarization tasks you requested, as well as a tag propriety check. Each function has a pass statement and a corresponding docstring explaining the functionality. You can expand these by adding the actual logic for AI integration.\",\n",
    "        \"option\": \"user_query\",\n",
    "        \"user_query\": \"Say more about this.\",\n",
    "        \"detailed\": \"true\"\n",
    "    },\n",
    "    \"youtube\": {\n",
    "        \"link\": \"Y7W41VMxyQE\",\n",
    "        \"language\": \"en\",\n",
    "        \"option\": \"user_query\",\n",
    "        \"user_query\": \"Say more about this.\",\n",
    "        \"detailed\": \"true\"\n",
    "    }\n",
    "}\n",
    "\n",
    "api_url = f\"http://127.0.0.1:8000//{endpoints_name}/\"\n",
    "\n",
    "response = requests.get(api_url, params=endpoints[endpoints_name])\n",
    "\n",
    "if response.status_code == 200:\n",
    "    print(\"API Response:\")\n",
    "    print(json.dumps(response.json(), indent=4))\n",
    "else:\n",
    "    print(f\"Failed to call API. Status Code: {response.status_code}\")\n",
    "    print(\"Response:\", response.text)\n"
   ]
  }
 ],
 "metadata": {
  "kernelspec": {
   "display_name": "btk",
   "language": "python",
   "name": "python3"
  },
  "language_info": {
   "codemirror_mode": {
    "name": "ipython",
    "version": 3
   },
   "file_extension": ".py",
   "mimetype": "text/x-python",
   "name": "python",
   "nbconvert_exporter": "python",
   "pygments_lexer": "ipython3",
   "version": "3.9.20"
  }
 },
 "nbformat": 4,
 "nbformat_minor": 2
}
