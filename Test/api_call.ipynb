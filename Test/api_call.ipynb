{
 "cells": [
  {
   "cell_type": "code",
   "execution_count": null,
   "metadata": {},
   "outputs": [],
   "source": [
    "!uvicorn app:app --reload"
   ]
  },
  {
   "cell_type": "code",
   "execution_count": 19,
   "metadata": {},
   "outputs": [
    {
     "name": "stdout",
     "output_type": "stream",
     "text": [
      "Failed to call API. Status Code: 422\n",
      "Response: {\"detail\":[{\"type\":\"missing\",\"loc\":[\"body\",\"file\"],\"msg\":\"Field required\",\"input\":null}]}\n"
     ]
    }
   ],
   "source": [
    "import requests, json\n",
    "\n",
    "endpoints_name = \"text\"\n",
    "\n",
    "source = {\n",
    "    \"text\": \"gezegenler.pdf\",\n",
    "    \"pdf\": \"gezegenler.pdf\" \n",
    "}\n",
    "\n",
    "endpoints = {\n",
    "    \"text\": {\n",
    "        \"text\": \"Here's a FastAPI template with functions that perform the summarization tasks you requested, as well as a tag propriety check. Each function has a pass statement and a corresponding docstring explaining the functionality. You can expand these by adding the actual logic for AI integration.\",\n",
    "        \"option\": \"note\",\n",
    "        \"user_query\": \"Say more about this.\",\n",
    "        \"detailed\": \"true\"\n",
    "    },\n",
    "    \"youtube\": {\n",
    "        \"link\": \"Y7W41VMxyQE\",\n",
    "        \"language\": \"en\",\n",
    "        \"option\": \"query_part\",\n",
    "        \"user_query\": \"Say more about this.\",\n",
    "        \"detailed\": \"true\"\n",
    "    },\n",
    "    \"pdf\":{\n",
    "        \"language\": \"tr\",\n",
    "        \"option\": \"summarize\",\n",
    "        \"detailed\": \"false\"            \n",
    "    }\n",
    "}\n",
    "\n",
    "api_url = f\"http://127.0.0.1:8000//gemini/\"\n",
    "\n",
    "response = requests.get(api_url, params=endpoints[endpoints_name])\n",
    "\n",
    "if response.status_code == 200:\n",
    "    print(\"API Response:\")\n",
    "    print(json.dumps(response.json(), indent=4))\n",
    "else:\n",
    "    print(f\"Failed to call API. Status Code: {response.status_code}\")\n",
    "    print(\"Response:\", response.text)\n"
   ]
  }
 ],
 "metadata": {
  "kernelspec": {
   "display_name": "btk10",
   "language": "python",
   "name": "python3"
  },
  "language_info": {
   "codemirror_mode": {
    "name": "ipython",
    "version": 3
   },
   "file_extension": ".py",
   "mimetype": "text/x-python",
   "name": "python",
   "nbconvert_exporter": "python",
   "pygments_lexer": "ipython3",
   "version": "3.10.15"
  }
 },
 "nbformat": 4,
 "nbformat_minor": 2
}
