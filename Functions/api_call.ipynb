{
 "cells": [
  {
   "cell_type": "code",
   "execution_count": null,
   "metadata": {},
   "outputs": [],
   "source": [
    "!uvicorn app:app --reload"
   ]
  },
  {
   "cell_type": "code",
   "execution_count": 19,
   "metadata": {},
   "outputs": [
    {
     "name": "stdout",
     "output_type": "stream",
     "text": [
      "API Response:\n",
      "{\n",
      "    \"candidates\": [\n",
      "        {\n",
      "            \"content\": {\n",
      "                \"parts\": [\n",
      "                    {\n",
      "                        \"text\": \"[\\n{\\n\\\"result_text\\\": \\\"The provided text describes a FastAPI template designed for text summarization. Let's break down its key aspects and how you can build upon it:\\\\n\\\\n**1. FastAPI Foundation:**\\\\n   - The template leverages FastAPI, a modern, high-performance web framework for building APIs with Python. This means you can easily create efficient endpoints to handle summarization requests.\\\\n\\\\n**2. Function Structure:**\\\\n   - The template predefines functions dedicated to specific summarization tasks. This modularity enhances code organization and maintainability.\\\\n\\\\n**3. Placeholder Logic (Pass Statements):** \\\\n   -  Currently, each function uses a `pass` statement, indicating no actual summarization logic is implemented. This is where you'll integrate your chosen AI or NLP techniques.\\\\n\\\\n**4. Docstrings for Clarity:**\\\\n   -  Each function includes a docstring explaining its intended purpose. These docstrings are crucial for documentation and understanding the codebase.\\\\n\\\\n**5. Tag Propriety Check:**\\\\n   -  The mention of a \\\\\\\"tag propriety check\\\\\\\" suggests a mechanism to validate or categorize input text, potentially to guide the summarization process. \\\\n\\\\n**Expanding with AI Integration:**\\\\n\\\\n   -  **Choose Your Approach:** Select an AI/NLP method for summarization (e.g., extractive, abstractive). Libraries like Transformers (with pre-trained models like BART, T5) are excellent choices.\\\\n   -  **Implement Logic:**  Within each function, replace the `pass` statement with the code to:\\\\n      -  Receive input text\\\\n      -  Preprocess if needed (e.g., text cleaning, tokenization)\\\\n      -  Apply your chosen summarization model \\\\n      -  Post-process the summary (e.g., formatting)\\\\n      -  Return the generated summary\\\\n\\\\n**Example (Using Transformers):**\\\\n\\\\n\"\n",
      "                    }\n",
      "                ],\n",
      "                \"role\": \"model\"\n",
      "            },\n",
      "            \"finish_reason\": 1,\n",
      "            \"index\": 0,\n",
      "            \"safety_ratings\": [\n",
      "                {\n",
      "                    \"category\": 9,\n",
      "                    \"probability\": 1,\n",
      "                    \"blocked\": false\n",
      "                },\n",
      "                {\n",
      "                    \"category\": 8,\n",
      "                    \"probability\": 1,\n",
      "                    \"blocked\": false\n",
      "                },\n",
      "                {\n",
      "                    \"category\": 7,\n",
      "                    \"probability\": 1,\n",
      "                    \"blocked\": false\n",
      "                },\n",
      "                {\n",
      "                    \"category\": 10,\n",
      "                    \"probability\": 1,\n",
      "                    \"blocked\": false\n",
      "                }\n",
      "            ],\n",
      "            \"token_count\": 0,\n",
      "            \"grounding_attributions\": [],\n",
      "            \"avg_logprobs\": 0.0\n",
      "        }\n",
      "    ],\n",
      "    \"usage_metadata\": {\n",
      "        \"prompt_token_count\": 70,\n",
      "        \"candidates_token_count\": 421,\n",
      "        \"total_token_count\": 491,\n",
      "        \"cached_content_token_count\": 0\n",
      "    }\n",
      "}\n"
     ]
    }
   ],
   "source": [
    "import requests, json\n",
    "\n",
    "endpoints_name = \"text\"\n",
    "\n",
    "source = {\n",
    "    \"text\": \"gezegenler.pdf\",\n",
    "    \"pdf\": \"gezegenler.pdf\" \n",
    "}\n",
    "\n",
    "endpoints = {\n",
    "    \"text\": {\n",
    "        \"text\": \"Here's a FastAPI template with functions that perform the summarization tasks you requested, as well as a tag propriety check. Each function has a pass statement and a corresponding docstring explaining the functionality. You can expand these by adding the actual logic for AI integration.\",\n",
    "        \"option\": \"note\",\n",
    "        \"user_query\": \"Say more about this.\",\n",
    "        \"detailed\": \"true\"\n",
    "    },\n",
    "    \"youtube\": {\n",
    "        \"link\": \"Y7W41VMxyQE\",\n",
    "        \"language\": \"en\",\n",
    "        \"option\": \"query_part\",\n",
    "        \"user_query\": \"Say more about this.\",\n",
    "        \"detailed\": \"true\"\n",
    "    },\n",
    "    \"pdf\":{\n",
    "        \"language\": \"tr\",\n",
    "        \"option\": \"summarize\",\n",
    "        \"detailed\": \"false\"            \n",
    "    }\n",
    "}\n",
    "\n",
    "api_url = f\"http://127.0.0.1:8000/gemini/\"\n",
    "\n",
    "response = requests.post(api_url, params=endpoints[endpoints_name])\n",
    "\n",
    "if response.status_code == 200:\n",
    "    print(\"API Response:\")\n",
    "    print(json.dumps(response.json(), indent=4))\n",
    "else:\n",
    "    print(f\"Failed to call API. Status Code: {response.status_code}\")\n",
    "    print(\"Response:\", response.text)\n"
   ]
  }
 ],
 "metadata": {
  "kernelspec": {
   "display_name": "btk10",
   "language": "python",
   "name": "python3"
  },
  "language_info": {
   "codemirror_mode": {
    "name": "ipython",
    "version": 3
   },
   "file_extension": ".py",
   "mimetype": "text/x-python",
   "name": "python",
   "nbconvert_exporter": "python",
   "pygments_lexer": "ipython3",
   "version": "3.10.15"
  }
 },
 "nbformat": 4,
 "nbformat_minor": 2
}
