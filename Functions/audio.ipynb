{
  "nbformat": 4,
  "nbformat_minor": 0,
  "metadata": {
    "colab": {
      "provenance": []
    },
    "kernelspec": {
      "name": "python3",
      "display_name": "Python 3"
    },
    "language_info": {
      "name": "python"
    }
  },
  "cells": [
    {
      "cell_type": "code",
      "source": [
        "from google.colab import files\n",
        "uploaded=files.upload()"
      ],
      "metadata": {
        "id": "DD3hnmPkXPFL"
      },
      "execution_count": null,
      "outputs": []
    },
    {
      "cell_type": "code",
      "source": [
        "import google.generativeai as genai\n",
        "from google.colab import userdata\n",
        "import os\n",
        "\n",
        "GOOGLE_API_KEY = userdata.get('GOOGLE_API_KEY')\n",
        "os.environ['GOOGLE_API_KEY'] = GOOGLE_API_KEY\n",
        "genai.configure(api_key=GOOGLE_API_KEY)\n",
        "if GOOGLE_API_KEY is None:\n",
        "  raise ValueError(\"GOOGLE_API_KEY not found in userdata. Please set it using userdata.set('GOOGLE_API_KEY', 'YOUR_API_KEY')\")\n"
      ],
      "metadata": {
        "id": "bblZyy7BaLxS"
      },
      "execution_count": 14,
      "outputs": []
    },
    {
      "cell_type": "code",
      "source": [
        "audio_file = genai.upload_file(path='deneme.mp3')\n",
        "model = genai.GenerativeModel(model_name=\"gemini-1.5-flash\")\n",
        "\n",
        "prompt = \"Summarize the speech.\"\n",
        "\n",
        "response = model.generate_content([prompt, audio_file])\n",
        "\n",
        "\n",
        "print(response.text)"
      ],
      "metadata": {
        "colab": {
          "base_uri": "https://localhost:8080/",
          "height": 54
        },
        "id": "8YMvuWZwaXvK",
        "outputId": "8aabe6f4-8655-4648-985c-e1bd11446ca6"
      },
      "execution_count": 17,
      "outputs": [
        {
          "output_type": "stream",
          "name": "stdout",
          "text": [
            "The speech is about the pain of losing someone you love. The speaker is trying to cope with the loss by saying that he can't get used to the change, can't change himself, and can't get into the game. He is in despair and can't hold on to anything. It is a sad and emotional speech. \n"
          ]
        }
      ]
    }
  ]
}